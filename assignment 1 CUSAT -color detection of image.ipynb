{
 "cells": [
  {
   "cell_type": "markdown",
   "id": "8289ad59",
   "metadata": {},
   "source": [
    "# 1.Importing libraries\n",
    "cv2 for OpenCV, pandas for data manipulation"
   ]
  },
  {
   "cell_type": "code",
   "execution_count": 1,
   "id": "77e25b3d",
   "metadata": {},
   "outputs": [],
   "source": [
    "import cv2\n",
    "import pandas as pd\n"
   ]
  },
  {
   "cell_type": "markdown",
   "id": "17571b2c",
   "metadata": {},
   "source": [
    "# 2.Reading test image\n",
    "read test jpg file in opencv(test can be anything)\n",
    "This line reads the image  using OpenCV's cv2.imread function and stores it in the variable test_img."
   ]
  },
  {
   "cell_type": "code",
   "execution_count": null,
   "id": "7646c925",
   "metadata": {},
   "outputs": [],
   "source": [
    "img_path=input('please enter the image path:')\n",
    "test_img = cv2.imread(img_path)\n",
    "\n",
    "\n",
    "imgWidth = test_img.shape[1] - 40 # This line calculates the width of the image (imgWidth)\n",
    "# and subtracts 40 from it. This value is used later to set the right boundary for drawing the rectangle and displaying \n",
    "#color information.\n"
   ]
  },
  {
   "cell_type": "markdown",
   "id": "62a11aec",
   "metadata": {},
   "source": [
    "# 3.Reading csv file with pandas and giving names to each column"
   ]
  },
  {
   "cell_type": "code",
   "execution_count": null,
   "id": "4350cfbb",
   "metadata": {},
   "outputs": [],
   "source": [
    "index = ['color', 'color_name', 'hexdecimal', 'R', 'G', 'B']\n",
    "df = pd.read_csv(\"C:/Users/HP/Desktop/MTECH CUSAT/assignment 1/colors.csv\", header=None, names=index)"
   ]
  },
  {
   "cell_type": "code",
   "execution_count": null,
   "id": "b8dae16e",
   "metadata": {},
   "outputs": [],
   "source": [
    "df"
   ]
  },
  {
   "cell_type": "markdown",
   "id": "5657a74f",
   "metadata": {},
   "source": [
    "# 4.Defining global variables"
   ]
  },
  {
   "cell_type": "code",
   "execution_count": null,
   "id": "3f18be0a",
   "metadata": {},
   "outputs": [],
   "source": [
    "r = g = b = xpos = ypos = 0\n",
    "# These lines initialize global variables r, g, b, xpos, and ypos to zero. \n",
    "# These variables will be used to store the RGB values of the pixel clicked by the user and the coordinates of the mouse click."
   ]
  },
  {
   "cell_type": "markdown",
   "id": "7dee7db0",
   "metadata": {},
   "source": [
    "# 5.The function updates the global b, g, and r variables with the RGB values of the pixel where the user clicked. It also updates the xpos and ypos variables with the coordinates of the mouse click."
   ]
  },
  {
   "cell_type": "code",
   "execution_count": null,
   "id": "e1a2670e",
   "metadata": {},
   "outputs": [],
   "source": [
    "def getRGBvalue(event, x, y, flags, param):\n",
    "    global b, g, r, xpos, ypos, clicked\n",
    "    xpos = x\n",
    "    ypos = y\n",
    "    b,g,r = test_img[y,x]\n",
    "    b = int(b)\n",
    "    g = int(g)\n",
    "    r = int(r)"
   ]
  },
  {
   "cell_type": "markdown",
   "id": "4cc4ed80",
   "metadata": {},
   "source": [
    "# 6. To find the closest color name that matches the given RGB values from a DataFrame df\n"
   ]
  },
  {
   "cell_type": "code",
   "execution_count": null,
   "id": "88073394",
   "metadata": {},
   "outputs": [],
   "source": [
    "def colorname(B,G,R):\n",
    "    minimum = 10000\n",
    "    for i in range(len(df)):\n",
    "        d = abs(B-int(df.loc[i,\"B\"])) + abs(G-int(df.loc[i,\"G\"])) + abs(R-int(df.loc[i,\"R\"]))\n",
    "        if (d<=minimum):\n",
    "            minimum = d\n",
    "            cname = df.loc[i,\"color_name\"] \n",
    "    return cname\n"
   ]
  },
  {
   "cell_type": "code",
   "execution_count": null,
   "id": "5c0fe9ea",
   "metadata": {},
   "outputs": [],
   "source": [
    "cv2.namedWindow(\"Image\")"
   ]
  },
  {
   "cell_type": "code",
   "execution_count": null,
   "id": "17512684",
   "metadata": {},
   "outputs": [],
   "source": [
    "cv2.setMouseCallback(\"Image\",getRGBvalue)"
   ]
  },
  {
   "cell_type": "code",
   "execution_count": null,
   "id": "cd405480",
   "metadata": {},
   "outputs": [],
   "source": [
    "while True:\n",
    "    cv2.imshow(\"Image\", test_img)\n",
    "    cv2.rectangle(test_img, (20,10), (imgWidth, 60),(b,g,r), -1)\n",
    "    text = colorname(b,g,r) + '   R=' + str(r) + ' G=' + str(g) + ' B=' + str(b)\n",
    "    cv2.putText(test_img,text, (50,50),2, 0.8, (255,255,255),2,cv2.LINE_AA)    \n",
    "    if(r+g+b >= 600):\n",
    "        cv2.putText(test_img,text,(50,50), 2, 0.8, (0,0,0),2,cv2.LINE_AA)   \n",
    "    if cv2.waitKey(20) & 0xFF == 27:\n",
    "        break\n",
    "    "
   ]
  },
  {
   "cell_type": "code",
   "execution_count": null,
   "id": "ec8ed312",
   "metadata": {},
   "outputs": [],
   "source": [
    "cv2.destroyAllWindows()\n"
   ]
  }
 ],
 "metadata": {
  "kernelspec": {
   "display_name": "Python 3 (ipykernel)",
   "language": "python",
   "name": "python3"
  },
  "language_info": {
   "codemirror_mode": {
    "name": "ipython",
    "version": 3
   },
   "file_extension": ".py",
   "mimetype": "text/x-python",
   "name": "python",
   "nbconvert_exporter": "python",
   "pygments_lexer": "ipython3",
   "version": "3.10.9"
  }
 },
 "nbformat": 4,
 "nbformat_minor": 5
}
